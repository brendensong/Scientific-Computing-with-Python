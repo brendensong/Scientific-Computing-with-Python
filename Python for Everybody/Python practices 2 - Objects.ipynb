{
 "cells": [
  {
   "cell_type": "markdown",
   "id": "52b1d7e4",
   "metadata": {},
   "source": [
    "### Object Oriented\n",
    "\n",
    "- A program is made up of many cooperating objects\n",
    "- Instead of being the \"whole program\" - each object is a little \"isladn\" within the program and cooperatively working with other objects\n",
    "- A program is made up of one or more obkects working together - obekects make use of each other's capabilites"
   ]
  },
  {
   "cell_type": "markdown",
   "id": "e3902580",
   "metadata": {},
   "source": [
    "### Object\n",
    "\n",
    "- An **Object** is a bit of self-contained ***Code*** and ***Data***\n",
    "- A key aspect of the Object approach is to break the problem into smaller understaindable parts (divide and conqure)\n",
    "- Objects have boundaries that allow us to ignore un-needed detail\n",
    "- We have been using objects all along: String Objects, Integer Objects, Dicitonar Objects, List Objects..."
   ]
  },
  {
   "cell_type": "markdown",
   "id": "14a78aee",
   "metadata": {},
   "source": [
    "### Definitions\n",
    "\n",
    "- **Class** - a template - Dog\n",
    "- **Method** or **Message** - A defined capability of a class - bark()\n",
    "- **Field** or **attribute** - A bit of data in a class - length\n",
    "- **Object** or **Instance** - A particular instance of a class - Lassie"
   ]
  },
  {
   "cell_type": "code",
   "execution_count": 1,
   "id": "15f2e73c",
   "metadata": {},
   "outputs": [
    {
     "name": "stdout",
     "output_type": "stream",
     "text": [
      "So far 2\n",
      "So far 4\n"
     ]
    }
   ],
   "source": [
    "# Example\n",
    "\n",
    "class PartyAnimal:\n",
    "    x = 0\n",
    "    def party(self):\n",
    "        self.x = self.x + 2\n",
    "        print(\"So far\", self.x)\n",
    "\n",
    "an = PartyAnimal()\n",
    "\n",
    "an.party()\n",
    "an.party()"
   ]
  },
  {
   "cell_type": "markdown",
   "id": "298e4807",
   "metadata": {},
   "source": [
    "### Finding Capabilites\n",
    "\n",
    "- The **dir()** command lists capabilites\n",
    "- Ignore the ones with **underscores** - these are used by Python itself\n",
    "- The rest are real opertaions that the object can perform\n",
    "- It is like type() - it tells us something \"about\" a variable"
   ]
  },
  {
   "cell_type": "code",
   "execution_count": 4,
   "id": "69331c92",
   "metadata": {},
   "outputs": [
    {
     "name": "stdout",
     "output_type": "stream",
     "text": [
      "<class 'list'>\n",
      "\n"
     ]
    },
    {
     "data": {
      "text/plain": [
       "['__add__',\n",
       " '__class__',\n",
       " '__class_getitem__',\n",
       " '__contains__',\n",
       " '__delattr__',\n",
       " '__delitem__',\n",
       " '__dir__',\n",
       " '__doc__',\n",
       " '__eq__',\n",
       " '__format__',\n",
       " '__ge__',\n",
       " '__getattribute__',\n",
       " '__getitem__',\n",
       " '__gt__',\n",
       " '__hash__',\n",
       " '__iadd__',\n",
       " '__imul__',\n",
       " '__init__',\n",
       " '__init_subclass__',\n",
       " '__iter__',\n",
       " '__le__',\n",
       " '__len__',\n",
       " '__lt__',\n",
       " '__mul__',\n",
       " '__ne__',\n",
       " '__new__',\n",
       " '__reduce__',\n",
       " '__reduce_ex__',\n",
       " '__repr__',\n",
       " '__reversed__',\n",
       " '__rmul__',\n",
       " '__setattr__',\n",
       " '__setitem__',\n",
       " '__sizeof__',\n",
       " '__str__',\n",
       " '__subclasshook__',\n",
       " 'append',\n",
       " 'clear',\n",
       " 'copy',\n",
       " 'count',\n",
       " 'extend',\n",
       " 'index',\n",
       " 'insert',\n",
       " 'pop',\n",
       " 'remove',\n",
       " 'reverse',\n",
       " 'sort']"
      ]
     },
     "execution_count": 4,
     "metadata": {},
     "output_type": "execute_result"
    }
   ],
   "source": [
    "x = list()\n",
    "print(type(x))\n",
    "print('')\n",
    "dir(x)"
   ]
  },
  {
   "cell_type": "markdown",
   "id": "e386ba42",
   "metadata": {},
   "source": [
    "### dir() with a String\n",
    "  "
   ]
  },
  {
   "cell_type": "code",
   "execution_count": 5,
   "id": "47ce1deb",
   "metadata": {},
   "outputs": [
    {
     "data": {
      "text/plain": [
       "['__add__',\n",
       " '__class__',\n",
       " '__contains__',\n",
       " '__delattr__',\n",
       " '__dir__',\n",
       " '__doc__',\n",
       " '__eq__',\n",
       " '__format__',\n",
       " '__ge__',\n",
       " '__getattribute__',\n",
       " '__getitem__',\n",
       " '__getnewargs__',\n",
       " '__gt__',\n",
       " '__hash__',\n",
       " '__init__',\n",
       " '__init_subclass__',\n",
       " '__iter__',\n",
       " '__le__',\n",
       " '__len__',\n",
       " '__lt__',\n",
       " '__mod__',\n",
       " '__mul__',\n",
       " '__ne__',\n",
       " '__new__',\n",
       " '__reduce__',\n",
       " '__reduce_ex__',\n",
       " '__repr__',\n",
       " '__rmod__',\n",
       " '__rmul__',\n",
       " '__setattr__',\n",
       " '__sizeof__',\n",
       " '__str__',\n",
       " '__subclasshook__',\n",
       " 'capitalize',\n",
       " 'casefold',\n",
       " 'center',\n",
       " 'count',\n",
       " 'encode',\n",
       " 'endswith',\n",
       " 'expandtabs',\n",
       " 'find',\n",
       " 'format',\n",
       " 'format_map',\n",
       " 'index',\n",
       " 'isalnum',\n",
       " 'isalpha',\n",
       " 'isascii',\n",
       " 'isdecimal',\n",
       " 'isdigit',\n",
       " 'isidentifier',\n",
       " 'islower',\n",
       " 'isnumeric',\n",
       " 'isprintable',\n",
       " 'isspace',\n",
       " 'istitle',\n",
       " 'isupper',\n",
       " 'join',\n",
       " 'ljust',\n",
       " 'lower',\n",
       " 'lstrip',\n",
       " 'maketrans',\n",
       " 'partition',\n",
       " 'removeprefix',\n",
       " 'removesuffix',\n",
       " 'replace',\n",
       " 'rfind',\n",
       " 'rindex',\n",
       " 'rjust',\n",
       " 'rpartition',\n",
       " 'rsplit',\n",
       " 'rstrip',\n",
       " 'split',\n",
       " 'splitlines',\n",
       " 'startswith',\n",
       " 'strip',\n",
       " 'swapcase',\n",
       " 'title',\n",
       " 'translate',\n",
       " 'upper',\n",
       " 'zfill']"
      ]
     },
     "execution_count": 5,
     "metadata": {},
     "output_type": "execute_result"
    }
   ],
   "source": [
    "y = \"I am a String\"\n",
    "dir(y)"
   ]
  },
  {
   "cell_type": "markdown",
   "id": "70feafb5",
   "metadata": {},
   "source": [
    "We can use **dir()** to find the \"capbilities\" of our newly created class"
   ]
  },
  {
   "cell_type": "code",
   "execution_count": 7,
   "id": "80b8165f",
   "metadata": {},
   "outputs": [
    {
     "name": "stdout",
     "output_type": "stream",
     "text": [
      "Type  <class '__main__.PartyAnimal'>\n",
      "Dir  ['__class__', '__delattr__', '__dict__', '__dir__', '__doc__', '__eq__', '__format__', '__ge__', '__getattribute__', '__gt__', '__hash__', '__init__', '__init_subclass__', '__le__', '__lt__', '__module__', '__ne__', '__new__', '__reduce__', '__reduce_ex__', '__repr__', '__setattr__', '__sizeof__', '__str__', '__subclasshook__', '__weakref__', 'party', 'x']\n"
     ]
    }
   ],
   "source": [
    "class PartyAnimal:\n",
    "    x = 0\n",
    "    def party(self):\n",
    "        self.x = self.x + 1\n",
    "        print(\"So far\", self.x)\n",
    "\n",
    "an = PartyAnimal()\n",
    "\n",
    "print(\"Type \", type(an))\n",
    "print(\"Dir \", dir(an))"
   ]
  },
  {
   "cell_type": "markdown",
   "id": "75e03db5",
   "metadata": {},
   "source": [
    "### Object Lifecycle\n",
    "\n",
    "- Objects are created, used and discarded\n",
    "- We have special blocks of code (methods) that get called\n",
    "    - At the moment of creation (constructor)\n",
    "    - At the moment of destruction (destructor)\n",
    "- Constructors are used a lot\n",
    "- Destructors are seldom used\n",
    "\n",
    "### Constructor\n",
    "\n",
    "- The primary purpose of the consturctor is to set up some instance variables to have the proper initial values when the object is created\n",
    "- In **Object oriednted programming**, a **constructor** in a class is a special block of statements called when an **object is created**"
   ]
  },
  {
   "cell_type": "code",
   "execution_count": 58,
   "id": "7a819763",
   "metadata": {},
   "outputs": [
    {
     "name": "stdout",
     "output_type": "stream",
     "text": [
      "I am constructed.\n",
      "So far 1\n",
      "So far 2\n",
      "I am destructed, 2\n",
      "an contains 42\n"
     ]
    }
   ],
   "source": [
    "class PartyAnimal:\n",
    "    x = 0\n",
    "    \n",
    "    def __init__(self):\n",
    "        print(\"I am constructed.\")\n",
    "    \n",
    "    def party(self):\n",
    "        self.x = self.x + 1\n",
    "        print(\"So far\", self.x)\n",
    "        \n",
    "    def __del__(self):\n",
    "        print(\"I am destructed,\", self.x)\n",
    "\n",
    "an = PartyAnimal()\n",
    "an.party()\n",
    "an.party()\n",
    "an = 42\n",
    "print(\"an contains\", an)\n",
    "\n",
    "# The constructor and destructor are optional. \n",
    "# The constructor is typically used to set up variables. The constructor is seldom used."
   ]
  },
  {
   "cell_type": "markdown",
   "id": "45dd9660",
   "metadata": {},
   "source": [
    "### Many Instances\n",
    "\n",
    "- We can create **lots of objects** - the class is the tempate for the object\n",
    "- We can store each **distinct object** in its own variable\n",
    "- We call this having mutiple **instances** of the same class\n",
    "- Each **instance** has its own copy of the **instance variables**"
   ]
  },
  {
   "cell_type": "code",
   "execution_count": 55,
   "id": "b7610c42",
   "metadata": {},
   "outputs": [
    {
     "name": "stdout",
     "output_type": "stream",
     "text": [
      "Quincy constructed\n",
      "Miya constructed\n",
      "Quincy party count 1\n",
      "Miya party count 1\n",
      "Quincy party count 2\n"
     ]
    }
   ],
   "source": [
    "class PartyAnimal:\n",
    "    x = 0\n",
    "    name = ''\n",
    "    \n",
    "    def __init__(self, nam):\n",
    "        self.name = nam\n",
    "        print(self.name, 'constructed')\n",
    "        \n",
    "    def party(self):\n",
    "        self.x = self.x + 1\n",
    "        print(self.name, 'party count', self.x)\n",
    "        \n",
    "q = PartyAnimal('Quincy')\n",
    "m = PartyAnimal('Miya')\n",
    "\n",
    "q.party()\n",
    "m.party()\n",
    "q.party()"
   ]
  },
  {
   "cell_type": "markdown",
   "id": "d6a85875",
   "metadata": {},
   "source": [
    "### Inheritance\n",
    "\n",
    "- When we make a new class - we can reuse an existing class and **inherit** all the capabilities of an existing class and then add our little bit to make our new class\n",
    "- Another form of store and reuse\n",
    "- Write once - reuse many times\n",
    "- The new class (child) has all the capabilities of the old class (parent) - and then some more\n",
    "\n",
    "Q. What is **inheritance** in object-oriented programming?\n",
    "- A. The ability to create a new class by extending an existing class."
   ]
  },
  {
   "cell_type": "code",
   "execution_count": 67,
   "id": "68da657c",
   "metadata": {},
   "outputs": [
    {
     "name": "stdout",
     "output_type": "stream",
     "text": [
      "Sally constructed\n",
      "Sally party count 1\n",
      "Jim constructed\n",
      "Jim party count 1\n",
      "Jim party count 2\n",
      "Jim points 7\n"
     ]
    }
   ],
   "source": [
    "class PartyAnimal:\n",
    "    x = 0\n",
    "    name = ''\n",
    "    \n",
    "    def __init__(self, nam):\n",
    "        self.name = nam\n",
    "        print(self.name, 'constructed')\n",
    "        \n",
    "    def party(self):\n",
    "        self.x = self.x + 1\n",
    "        print(self.name, 'party count', self.x)\n",
    "\n",
    "class FootballFan(PartyAnimal):\n",
    "    points = 0\n",
    "    def touchdown(self):\n",
    "        self.points = self.points + 7\n",
    "        self.party()\n",
    "        print(self.name, 'points', self.points)\n",
    "        \n",
    "s = PartyAnimal('Sally')\n",
    "s.party()\n",
    "\n",
    "j = FootballFan('Jim')\n",
    "j.party()\n",
    "j.touchdown()"
   ]
  },
  {
   "cell_type": "markdown",
   "id": "6e160abb",
   "metadata": {},
   "source": [
    "### Definitions\n",
    "\n",
    "- **Class** - a template\n",
    "- **Attribute** - a variable within a class\n",
    "- **Method** - a function within a class\n",
    "- **Object** - a particular instance of a class\n",
    "- **Constructor** - code that runs when an object is created\n",
    "- **Inheritance** - tha ability to extend a class to make a new class"
   ]
  },
  {
   "cell_type": "markdown",
   "id": "c9c7f1e5",
   "metadata": {},
   "source": [
    "### Summary\n",
    "\n",
    "- Object Oriendted programming is a very structed approach to code reuse.\n",
    "- We can group data and functionality together and create many independent instances of a class."
   ]
  },
  {
   "cell_type": "code",
   "execution_count": null,
   "id": "d0b3b094",
   "metadata": {},
   "outputs": [],
   "source": []
  }
 ],
 "metadata": {
  "kernelspec": {
   "display_name": "Python 3",
   "language": "python",
   "name": "python3"
  },
  "language_info": {
   "codemirror_mode": {
    "name": "ipython",
    "version": 3
   },
   "file_extension": ".py",
   "mimetype": "text/x-python",
   "name": "python",
   "nbconvert_exporter": "python",
   "pygments_lexer": "ipython3",
   "version": "3.9.2"
  }
 },
 "nbformat": 4,
 "nbformat_minor": 5
}
