{
 "cells": [
  {
   "cell_type": "code",
   "execution_count": 12,
   "id": "bacea9cb",
   "metadata": {},
   "outputs": [
    {
     "name": "stdout",
     "output_type": "stream",
     "text": [
      "1 9\n",
      "2 41\n",
      "3 12\n",
      "4 3\n",
      "5 74\n",
      "6 15\n",
      "Final counting is :  6\n"
     ]
    }
   ],
   "source": [
    "#Counting in a loop\n",
    "\n",
    "counting = 0\n",
    "numbers = [9, 41, 12, 3, 74, 15]\n",
    "\n",
    "#print('Before : ', counting)\n",
    "\n",
    "for num in numbers:\n",
    "    counting = counting + 1\n",
    "    print(counting, num)\n",
    "\n",
    "print('Final counting is : ', counting)"
   ]
  },
  {
   "cell_type": "code",
   "execution_count": 14,
   "id": "43eaebc9",
   "metadata": {},
   "outputs": [
    {
     "name": "stdout",
     "output_type": "stream",
     "text": [
      "largest so far : 9 | compared :  9\n",
      "largest so far : 41 | compared :  41\n",
      "largest so far : 41 | compared :  12\n",
      "largest so far : 41 | compared :  3\n",
      "largest so far : 74 | compared :  74\n",
      "largest so far : 74 | compared :  15\n",
      "The largest number is : 74\n"
     ]
    }
   ],
   "source": [
    "#Finding the largest value\n",
    "\n",
    "largest = -1\n",
    "numbers = [9, 41, 12, 3, 74, 15]\n",
    "\n",
    "#print('Before : ', largest)\n",
    "\n",
    "for num in numbers:\n",
    "    if num > largest:\n",
    "        largest = num\n",
    "    print('largest so far :', largest, '| compared : ', num,)\n",
    "\n",
    "print('The largest number is :', largest)\n"
   ]
  },
  {
   "cell_type": "code",
   "execution_count": 4,
   "id": "7340e6e8",
   "metadata": {},
   "outputs": [
    {
     "name": "stdout",
     "output_type": "stream",
     "text": [
      "smallest so far : 9 | compared : 9\n",
      "smallest so far : 9 | compared : 41\n",
      "smallest so far : 9 | compared : 12\n",
      "smallest so far : 3 | compared : 3\n",
      "smallest so far : 3 | compared : 74\n",
      "smallest so far : 3 | compared : 15\n",
      "The smallest number is : 3\n"
     ]
    }
   ],
   "source": [
    "#Finding the smallest value\n",
    "\n",
    "smallest = None\n",
    "numbers = [9, 41, 12, 3, 74, 15]\n",
    "\n",
    "for num in numbers:\n",
    "    if smallest == None:\n",
    "        smallest = num\n",
    "    elif num < smallest:\n",
    "        smallest = num\n",
    "    print('smallest so far :', smallest, '| compared :', num)\n",
    "\n",
    "print('The smallest number is :', smallest)"
   ]
  },
  {
   "cell_type": "code",
   "execution_count": 13,
   "id": "eaedb59b",
   "metadata": {},
   "outputs": [
    {
     "name": "stdout",
     "output_type": "stream",
     "text": [
      "sum so far : 9 average so far : 9.0\n",
      "sum so far : 50 average so far : 25.0\n",
      "sum so far : 62 average so far : 20.666666666666668\n",
      "sum so far : 65 average so far : 16.25\n",
      "sum so far : 139 average so far : 27.8\n",
      "sum so far : 154 average so far : 25.666666666666668\n",
      "Total sum is : 154 | Average is : 25.666666666666668\n"
     ]
    }
   ],
   "source": [
    "#Finding the Average in a loop\n",
    "\n",
    "count = 0\n",
    "sum_num = 0\n",
    "numbers = [9, 41, 12, 3, 74, 15]\n",
    "\n",
    "for num in numbers:\n",
    "    count = count + 1\n",
    "    sum_num = sum_num + num\n",
    "    ave_num = sum_num / count\n",
    "    print('sum so far :', sum_num, 'average so far :', ave_num)\n",
    "print('Total sum is :', sum_num, '| Average is :', ave_num)"
   ]
  },
  {
   "cell_type": "code",
   "execution_count": 18,
   "id": "6d57a774",
   "metadata": {},
   "outputs": [
    {
     "name": "stdout",
     "output_type": "stream",
     "text": [
      "| Hello Brenden    |\n",
      "|     Hello Brenden |\n",
      "| Hello Brenden |\n"
     ]
    }
   ],
   "source": [
    "#Stripping Whitespace\n",
    "\n",
    "greet = '    Hello Brenden   '\n",
    "\n",
    "#lstrip()\n",
    "leftS = greet.lstrip()\n",
    "\n",
    "#rstrip()\n",
    "rightS = greet.rstrip()\n",
    "\n",
    "#strip()\n",
    "bothS = greet.strip()\n",
    "\n",
    "print('|',leftS,'|')\n",
    "print('|',rightS,'|')\n",
    "print('|',bothS,'|')"
   ]
  },
  {
   "cell_type": "code",
   "execution_count": 22,
   "id": "52c553f6",
   "metadata": {},
   "outputs": [
    {
     "name": "stdout",
     "output_type": "stream",
     "text": [
      "6\n",
      "74\n",
      "3\n",
      "154\n",
      "25.666666666666668\n"
     ]
    }
   ],
   "source": [
    "#Built-in Functions and Lists\n",
    "\n",
    "numbers = [9, 41, 12, 3, 74, 15]\n",
    "\n",
    "print(len(numbers))\n",
    "\n",
    "print(max(numbers))\n",
    "\n",
    "print(min(numbers))\n",
    "\n",
    "print(sum(numbers))\n",
    "\n",
    "print(sum(numbers)/len(numbers))"
   ]
  },
  {
   "cell_type": "code",
   "execution_count": 30,
   "id": "c58cc731",
   "metadata": {},
   "outputs": [
    {
     "name": "stdout",
     "output_type": "stream",
     "text": [
      "['His', 'e-mail', 'is', 'a-bc@email.com']\n",
      "['a-bc', 'email.com']\n"
     ]
    }
   ],
   "source": [
    "#Strings and Lists\n",
    "\n",
    "words = 'His e-mail is a-bc@email.com'\n",
    "stuff = words.split()\n",
    "print(stuff)\n",
    "\n",
    "parts = stuff[3].split('@')\n",
    "print(parts)\n",
    "\n",
    "\n"
   ]
  },
  {
   "cell_type": "code",
   "execution_count": 36,
   "id": "1521caaa",
   "metadata": {},
   "outputs": [
    {
     "name": "stdout",
     "output_type": "stream",
     "text": [
      "{'candy': 5, 'money': 12, 'tissues': 55}\n",
      "12\n",
      "{'candy': 4, 'money': 12, 'tissues': 55}\n"
     ]
    }
   ],
   "source": [
    "#Dictionaies\n",
    "\n",
    "bag = dict()\n",
    "\n",
    "bag['candy'] = 5\n",
    "bag['money'] = 12\n",
    "bag['tissues'] = 55\n",
    "\n",
    "print(bag)\n",
    "\n",
    "print(bag['money'])\n",
    "\n",
    "bag['candy'] = bag['candy'] -1\n",
    "print(bag)"
   ]
  },
  {
   "cell_type": "code",
   "execution_count": 37,
   "id": "0f674a76",
   "metadata": {},
   "outputs": [
    {
     "name": "stdout",
     "output_type": "stream",
     "text": [
      "{'Jordan': 2, 'Jackson': 1, 'James': 2, 'Curry': 1}\n"
     ]
    }
   ],
   "source": [
    "#Counting in the dictonary 1\n",
    "\n",
    "counts = dict()\n",
    "names = ['Jordan', 'Jackson', 'James', 'Jordan', 'Curry', 'James']\n",
    "\n",
    "for name in names :\n",
    "    if name not in counts :\n",
    "        counts[name] = 1\n",
    "    else :\n",
    "        counts[name] = counts[name] + 1\n",
    "\n",
    "print(counts)"
   ]
  },
  {
   "cell_type": "code",
   "execution_count": 42,
   "id": "bfcc74ab",
   "metadata": {},
   "outputs": [
    {
     "name": "stdout",
     "output_type": "stream",
     "text": [
      "{'Jordan': 2, 'Jackson': 1, 'James': 2, 'Curry': 1}\n"
     ]
    }
   ],
   "source": [
    "#Counting in the dictonary 2\n",
    "\n",
    "counts = dict()\n",
    "names = ['Jordan', 'Jackson', 'James', 'Jordan', 'Curry', 'James']\n",
    "\n",
    "for name in names :\n",
    "   counts[name] = counts.get(name, 0) + 1\n",
    "\n",
    "print(counts)"
   ]
  },
  {
   "cell_type": "code",
   "execution_count": 51,
   "id": "eec26a47",
   "metadata": {},
   "outputs": [
    {
     "name": "stdout",
     "output_type": "stream",
     "text": [
      "Enter a lin of text: \n",
      "Lorem ipsum dolor sit amet, consectetur adipiscing elit. Mauris mi ipsum, dignissim at nisi vel, scelerisque rutrum magna. Cras in tellus faucibus, viverra odio non, volutpat erat. Donec nibh nisl, egestas nec odio eu, semper semper mi. In metus mi, auctor consequat dignissim eget, imperdiet sit amet nibh.\n",
      "\n",
      "Words: ['Lorem', 'ipsum', 'dolor', 'sit', 'amet,', 'consectetur', 'adipiscing', 'elit.', 'Mauris', 'mi', 'ipsum,', 'dignissim', 'at', 'nisi', 'vel,', 'scelerisque', 'rutrum', 'magna.', 'Cras', 'in', 'tellus', 'faucibus,', 'viverra', 'odio', 'non,', 'volutpat', 'erat.', 'Donec', 'nibh', 'nisl,', 'egestas', 'nec', 'odio', 'eu,', 'semper', 'semper', 'mi.', 'In', 'metus', 'mi,', 'auctor', 'consequat', 'dignissim', 'eget,', 'imperdiet', 'sit', 'amet', 'nibh.']\n",
      "\n",
      "Counting...\n",
      "Counts {'Lorem': 1, 'ipsum': 1, 'dolor': 1, 'sit': 2, 'amet,': 1, 'consectetur': 1, 'adipiscing': 1, 'elit.': 1, 'Mauris': 1, 'mi': 1, 'ipsum,': 1, 'dignissim': 2, 'at': 1, 'nisi': 1, 'vel,': 1, 'scelerisque': 1, 'rutrum': 1, 'magna.': 1, 'Cras': 1, 'in': 1, 'tellus': 1, 'faucibus,': 1, 'viverra': 1, 'odio': 2, 'non,': 1, 'volutpat': 1, 'erat.': 1, 'Donec': 1, 'nibh': 1, 'nisl,': 1, 'egestas': 1, 'nec': 1, 'eu,': 1, 'semper': 2, 'mi.': 1, 'In': 1, 'metus': 1, 'mi,': 1, 'auctor': 1, 'consequat': 1, 'eget,': 1, 'imperdiet': 1, 'amet': 1, 'nibh.': 1}\n"
     ]
    }
   ],
   "source": [
    "#Counting Pattern\n",
    "\n",
    "counts = dict()\n",
    "print(\"Enter a lin of text: \")\n",
    "line = input('')\n",
    "print('')\n",
    "\n",
    "words = line.split()\n",
    "\n",
    "print('Words:', words)\n",
    "print('')\n",
    "\n",
    "print('Counting...')\n",
    "for word in words:\n",
    "    counts[word] = counts.get(word, 0) + 1\n",
    "    \n",
    "print('Counts', counts)"
   ]
  },
  {
   "cell_type": "code",
   "execution_count": 53,
   "id": "5a422872",
   "metadata": {
    "scrolled": false
   },
   "outputs": [
    {
     "name": "stdout",
     "output_type": "stream",
     "text": [
      "Enter a lin of text: \n",
      "Lorem ipsum dolor sit amet, consectetur dolor  adipiscing elit. Mauris mi ipsum, dignissim at nisi vel, dolor  scelerisque rutrum magna. Cras in tellus dolor  faucibus, viverra odio non, volutpat erat. Donec nibh nisl, egestas nec odio eu, semper semper mi. In metus mi, auctor consequat dignissim eget, imperdiet sit amet nibh.\n",
      "\n",
      "Words: ['Lorem', 'ipsum', 'dolor', 'sit', 'amet,', 'consectetur', 'dolor', 'adipiscing', 'elit.', 'Mauris', 'mi', 'ipsum,', 'dignissim', 'at', 'nisi', 'vel,', 'dolor', 'scelerisque', 'rutrum', 'magna.', 'Cras', 'in', 'tellus', 'dolor', 'faucibus,', 'viverra', 'odio', 'non,', 'volutpat', 'erat.', 'Donec', 'nibh', 'nisl,', 'egestas', 'nec', 'odio', 'eu,', 'semper', 'semper', 'mi.', 'In', 'metus', 'mi,', 'auctor', 'consequat', 'dignissim', 'eget,', 'imperdiet', 'sit', 'amet', 'nibh.']\n",
      "\n",
      "Counting...\n",
      "Counts {'Lorem': 1, 'ipsum': 1, 'dolor': 4, 'sit': 2, 'amet,': 1, 'consectetur': 1, 'adipiscing': 1, 'elit.': 1, 'Mauris': 1, 'mi': 1, 'ipsum,': 1, 'dignissim': 2, 'at': 1, 'nisi': 1, 'vel,': 1, 'scelerisque': 1, 'rutrum': 1, 'magna.': 1, 'Cras': 1, 'in': 1, 'tellus': 1, 'faucibus,': 1, 'viverra': 1, 'odio': 2, 'non,': 1, 'volutpat': 1, 'erat.': 1, 'Donec': 1, 'nibh': 1, 'nisl,': 1, 'egestas': 1, 'nec': 1, 'eu,': 1, 'semper': 2, 'mi.': 1, 'In': 1, 'metus': 1, 'mi,': 1, 'auctor': 1, 'consequat': 1, 'eget,': 1, 'imperdiet': 1, 'amet': 1, 'nibh.': 1}\n",
      "\n",
      "dolor 4\n"
     ]
    }
   ],
   "source": [
    "#Counting Pattern + finding largest count\n",
    "\n",
    "counts = dict()\n",
    "print(\"Enter a lin of text: \")\n",
    "line = input('')\n",
    "print('')\n",
    "\n",
    "words = line.split()\n",
    "\n",
    "print('Words:', words)\n",
    "print('')\n",
    "\n",
    "print('Counting...')\n",
    "for word in words:\n",
    "    counts[word] = counts.get(word, 0) + 1\n",
    "    \n",
    "print('Counts', counts)\n",
    "print('')\n",
    "\n",
    "bigCount = None\n",
    "bigWord = None\n",
    "for word,count in counts.items():\n",
    "    if bigCount is None or count > bigCount:\n",
    "        bigWord = word\n",
    "        bigCount = count\n",
    "        \n",
    "print(bigWord, bigCount)"
   ]
  },
  {
   "cell_type": "markdown",
   "id": "b7f6a3a1",
   "metadata": {},
   "source": [
    "### Tuples are more efficient\n",
    "\n",
    "Since Python doesn't have to build tuple structures to be modifiabel, they are simpler and more efficient in terms of memory use and performance than list. So in our program when we are making \"temporary variables\" we prefer tuples over lists.\n",
    "\n",
    "### Tuples and assignment\n",
    "\n",
    "We can also put a tuple on the left-hand side of an assignment statement. We can even omit the parentheses."
   ]
  },
  {
   "cell_type": "code",
   "execution_count": 4,
   "id": "0e6781ea",
   "metadata": {},
   "outputs": [
    {
     "name": "stdout",
     "output_type": "stream",
     "text": [
      "fred\n"
     ]
    }
   ],
   "source": [
    "(x, y) = (4, 'fred')\n",
    "print(y)"
   ]
  },
  {
   "cell_type": "code",
   "execution_count": 5,
   "id": "8c3e3e58",
   "metadata": {},
   "outputs": [
    {
     "name": "stdout",
     "output_type": "stream",
     "text": [
      "99\n"
     ]
    }
   ],
   "source": [
    "(a, b) = (99, 98)\n",
    "print(a)"
   ]
  },
  {
   "cell_type": "code",
   "execution_count": 6,
   "id": "8ee6712c",
   "metadata": {},
   "outputs": [
    {
     "name": "stdout",
     "output_type": "stream",
     "text": [
      "csev 2\n",
      "cwen 4\n"
     ]
    }
   ],
   "source": [
    "d = dict()\n",
    "d['csev'] = 2\n",
    "d['cwen'] = 4\n",
    "for (k, v) in d.items():\n",
    "    print(k, v)"
   ]
  },
  {
   "cell_type": "code",
   "execution_count": 7,
   "id": "a34fe3f0",
   "metadata": {},
   "outputs": [
    {
     "name": "stdout",
     "output_type": "stream",
     "text": [
      "dict_items([('csev', 2), ('cwen', 4)])\n"
     ]
    }
   ],
   "source": [
    "tups = d.items()\n",
    "print(tups)"
   ]
  },
  {
   "cell_type": "markdown",
   "id": "5549c847",
   "metadata": {},
   "source": [
    "### Tuples are Comparable\n",
    "\n",
    "The comparison **operators** work with **tuples** and other sequences. If the first item is equal, Python goes on to the next element, and so on, until it finds elements that differ."
   ]
  },
  {
   "cell_type": "code",
   "execution_count": 10,
   "id": "cd857c59",
   "metadata": {},
   "outputs": [
    {
     "data": {
      "text/plain": [
       "True"
      ]
     },
     "execution_count": 10,
     "metadata": {},
     "output_type": "execute_result"
    }
   ],
   "source": [
    "(0,1,2) < (5,1,2)"
   ]
  },
  {
   "cell_type": "code",
   "execution_count": 11,
   "id": "7369e545",
   "metadata": {},
   "outputs": [
    {
     "data": {
      "text/plain": [
       "True"
      ]
     },
     "execution_count": 11,
     "metadata": {},
     "output_type": "execute_result"
    }
   ],
   "source": [
    "(0,1,2000) < (0,3,4)"
   ]
  },
  {
   "cell_type": "code",
   "execution_count": 12,
   "id": "f8095ad4",
   "metadata": {},
   "outputs": [
    {
     "data": {
      "text/plain": [
       "True"
      ]
     },
     "execution_count": 12,
     "metadata": {},
     "output_type": "execute_result"
    }
   ],
   "source": [
    "('Jones', 'Sally') < ('Jones', 'Sam')"
   ]
  },
  {
   "cell_type": "code",
   "execution_count": 14,
   "id": "12ec67d2",
   "metadata": {},
   "outputs": [
    {
     "data": {
      "text/plain": [
       "True"
      ]
     },
     "execution_count": 14,
     "metadata": {},
     "output_type": "execute_result"
    }
   ],
   "source": [
    "('Jones', 'Sally') > ('Adam', 'Sam')"
   ]
  },
  {
   "cell_type": "markdown",
   "id": "4bc19287",
   "metadata": {},
   "source": [
    "### Sorting Lists of Tuples\n",
    "\n",
    "- We can take advantage of the ability to sort a list of **tuples** to get a sorted version of a dictionary.\n",
    "- First we sort the dictionary by the key using the **items()** method and **sorted()** function."
   ]
  },
  {
   "cell_type": "code",
   "execution_count": 23,
   "id": "e22473dc",
   "metadata": {},
   "outputs": [
    {
     "data": {
      "text/plain": [
       "dict_items([('a', 10), ('c', 22), ('b', 1)])"
      ]
     },
     "execution_count": 23,
     "metadata": {},
     "output_type": "execute_result"
    }
   ],
   "source": [
    "d = {'a':10, 'c':22, 'b':1}\n",
    "d.items()"
   ]
  },
  {
   "cell_type": "code",
   "execution_count": 24,
   "id": "5e6c64f9",
   "metadata": {},
   "outputs": [
    {
     "data": {
      "text/plain": [
       "[('a', 10), ('b', 1), ('c', 22)]"
      ]
     },
     "execution_count": 24,
     "metadata": {},
     "output_type": "execute_result"
    }
   ],
   "source": [
    "sorted(d.items())"
   ]
  },
  {
   "cell_type": "markdown",
   "id": "5b08e90d",
   "metadata": {},
   "source": [
    "- We can do this even more directily using the built-in function **sorted** that takes a sequence as a parameter and returns a sorted sequence."
   ]
  },
  {
   "cell_type": "code",
   "execution_count": 27,
   "id": "23e72caf",
   "metadata": {},
   "outputs": [
    {
     "data": {
      "text/plain": [
       "[('a', 10), ('b', 1), ('c', 22)]"
      ]
     },
     "execution_count": 27,
     "metadata": {},
     "output_type": "execute_result"
    }
   ],
   "source": [
    "d = {'a':10, 'c':22, 'b':1}\n",
    "t = sorted(d.items())\n",
    "t"
   ]
  },
  {
   "cell_type": "code",
   "execution_count": 29,
   "id": "3bfdaefd",
   "metadata": {},
   "outputs": [
    {
     "name": "stdout",
     "output_type": "stream",
     "text": [
      "a 10\n",
      "b 1\n",
      "c 22\n"
     ]
    }
   ],
   "source": [
    "for k, v in sorted(d.items()):\n",
    "    print(k,v)"
   ]
  },
  {
   "cell_type": "markdown",
   "id": "312ccd3b",
   "metadata": {},
   "source": [
    "#### Sort by value instead of key\n",
    "\n",
    "- If we could construct a list of **tuples** of the form **(value, key)** we could sort by value.\n",
    "- We do this with a **for** loop that creates a list of tuples."
   ]
  },
  {
   "cell_type": "code",
   "execution_count": 33,
   "id": "10552d09",
   "metadata": {},
   "outputs": [
    {
     "name": "stdout",
     "output_type": "stream",
     "text": [
      "[(10, 'a'), (22, 'c'), (2, 'b')]\n",
      "\n",
      "[(22, 'c'), (10, 'a'), (2, 'b')]\n"
     ]
    }
   ],
   "source": [
    "c = {'a':10, 'c':22, 'b':2}\n",
    "\n",
    "tmp = list()\n",
    "for k, v in c.items():\n",
    "    tmp.append((v,k))\n",
    "    \n",
    "print(tmp)\n",
    "print('')\n",
    "\n",
    "tmp = sorted(tmp, reverse=True)\n",
    "print(tmp)"
   ]
  },
  {
   "cell_type": "code",
   "execution_count": 37,
   "id": "a6d21df2",
   "metadata": {},
   "outputs": [
    {
     "name": "stdout",
     "output_type": "stream",
     "text": [
      "[(22, 'c'), (10, 'a'), (2, 'b')]\n"
     ]
    }
   ],
   "source": [
    "print(sorted([(v,k) for k,v in c.items()], reverse=True))"
   ]
  },
  {
   "cell_type": "markdown",
   "id": "2e0a4985",
   "metadata": {},
   "source": [
    "#### Finding the top 10 most common words"
   ]
  },
  {
   "cell_type": "code",
   "execution_count": 39,
   "id": "a04ad7da",
   "metadata": {},
   "outputs": [
    {
     "name": "stdout",
     "output_type": "stream",
     "text": [
      "Enter a lin of text: \n",
      "What has caused the violence? The fighting between Israel and Hamas was triggered by days of escalating clashes between Palestinians and Israeli police at a holy hilltop compound in East Jerusalem.  The site is revered by both Muslims, who call it the Haram al-Sharif (Noble Sanctuary), and Jews, for whom it is known as the Temple Mount. Hamas demanded Israel remove police from there and the nearby predominantly Arab district of Sheikh Jarrah, where Palestinian families face eviction by Jewish settlers. Hamas launched rockets when its ultimatum went unheeded.  Palestinian anger had already been stoked by weeks of rising tension in East Jerusalem, inflamed by a series of confrontations with police since the start of the Islamic holy month of Ramadan in mid-April.\n",
      "\n",
      "Words: ['What', 'has', 'caused', 'the', 'violence?', 'The', 'fighting', 'between', 'Israel', 'and', 'Hamas', 'was', 'triggered', 'by', 'days', 'of', 'escalating', 'clashes', 'between', 'Palestinians', 'and', 'Israeli', 'police', 'at', 'a', 'holy', 'hilltop', 'compound', 'in', 'East', 'Jerusalem.', 'The', 'site', 'is', 'revered', 'by', 'both', 'Muslims,', 'who', 'call', 'it', 'the', 'Haram', 'al-Sharif', '(Noble', 'Sanctuary),', 'and', 'Jews,', 'for', 'whom', 'it', 'is', 'known', 'as', 'the', 'Temple', 'Mount.', 'Hamas', 'demanded', 'Israel', 'remove', 'police', 'from', 'there', 'and', 'the', 'nearby', 'predominantly', 'Arab', 'district', 'of', 'Sheikh', 'Jarrah,', 'where', 'Palestinian', 'families', 'face', 'eviction', 'by', 'Jewish', 'settlers.', 'Hamas', 'launched', 'rockets', 'when', 'its', 'ultimatum', 'went', 'unheeded.', 'Palestinian', 'anger', 'had', 'already', 'been', 'stoked', 'by', 'weeks', 'of', 'rising', 'tension', 'in', 'East', 'Jerusalem,', 'inflamed', 'by', 'a', 'series', 'of', 'confrontations', 'with', 'police', 'since', 'the', 'start', 'of', 'the', 'Islamic', 'holy', 'month', 'of', 'Ramadan', 'in', 'mid-April.']\n",
      "\n",
      "Counting...\n",
      "the 6\n",
      "of 6\n",
      "by 5\n",
      "and 4\n",
      "police 3\n",
      "in 3\n",
      "Hamas 3\n",
      "it 2\n",
      "is 2\n",
      "holy 2\n"
     ]
    }
   ],
   "source": [
    "counts = dict()\n",
    "print(\"Enter a lin of text: \")\n",
    "line = input('')\n",
    "print('')\n",
    "\n",
    "words = line.split()\n",
    "\n",
    "print('Words:', words)\n",
    "print('')\n",
    "\n",
    "print('Counting...')\n",
    "for word in words:\n",
    "    counts[word] = counts.get(word, 0) + 1\n",
    "    \n",
    "lst = list()\n",
    "for key, val in counts.items():\n",
    "    newtup = (val, key)\n",
    "    lst.append(newtup)\n",
    "\n",
    "lst = sorted(lst, reverse=True)\n",
    "\n",
    "for val, key in lst[:10]:\n",
    "    print(key, val)\n"
   ]
  },
  {
   "cell_type": "markdown",
   "id": "86bf08be",
   "metadata": {},
   "source": [
    "### The Regular Expression Module\n",
    "\n",
    "- Before you can use regular expression in your program, you must import the library using \"**inport re**\"\n",
    "- You can use **re.search()** to see if a string matches a regular expression, similar to using the **find()** method for strings\n",
    "- You can use **re.findall()** to extract portions of a string that match your regular expression, similar to a combination of **find()** and slicing: **var[5:10]**\n",
    "\n",
    "### Matching and Extracting Data\n",
    "\n",
    "- **re.search()** returns a True/False depending on whether the string matches the regular expression\n",
    "- If we actually want the matching strings to be extracted, we use **re.findall()**"
   ]
  },
  {
   "cell_type": "code",
   "execution_count": 2,
   "id": "d892ce1f",
   "metadata": {},
   "outputs": [
    {
     "name": "stdout",
     "output_type": "stream",
     "text": [
      "['2', '21', '81']\n"
     ]
    }
   ],
   "source": [
    "import re\n",
    "x = 'My 2 favorite numners are 21 and 81'\n",
    "y =  re.findall('[0-9]+',x)\n",
    "print(y)\n",
    "\n"
   ]
  },
  {
   "cell_type": "code",
   "execution_count": 3,
   "id": "dec9deb3",
   "metadata": {},
   "outputs": [
    {
     "name": "stdout",
     "output_type": "stream",
     "text": [
      "['csev@umich.edu', 'cwen@iupui.edu']\n"
     ]
    }
   ],
   "source": [
    "import re\n",
    "s = 'A message from csev@umich.edu to cwen@iupui.edu about meeting @2PM'\n",
    "lst = re.findall('\\\\S+@\\\\S+', s)\n",
    "print(lst)"
   ]
  },
  {
   "cell_type": "code",
   "execution_count": 7,
   "id": "75c60fa7",
   "metadata": {},
   "outputs": [
    {
     "name": "stdout",
     "output_type": "stream",
     "text": [
      "['$10.00']\n"
     ]
    }
   ],
   "source": [
    "import re\n",
    "x = 'We just received $10.00 for cookies.'\n",
    "y = re.findall('\\$[0-9.]+',x)\n",
    "print(y)"
   ]
  },
  {
   "cell_type": "code",
   "execution_count": 8,
   "id": "beb5feb2",
   "metadata": {},
   "outputs": [
    {
     "name": "stdout",
     "output_type": "stream",
     "text": [
      "2\n",
      "4\n"
     ]
    }
   ],
   "source": [
    "class PartyAnimal:\n",
    "    x = 0\n",
    "    def party(self):\n",
    "        self.x = self.x + 2\n",
    "        print(self.x)\n",
    "\n",
    "an = PartyAnimal()\n",
    "an.party()\n",
    "an.party()"
   ]
  },
  {
   "cell_type": "code",
   "execution_count": null,
   "id": "990aa6a8",
   "metadata": {},
   "outputs": [],
   "source": []
  }
 ],
 "metadata": {
  "kernelspec": {
   "display_name": "Python 3",
   "language": "python",
   "name": "python3"
  },
  "language_info": {
   "codemirror_mode": {
    "name": "ipython",
    "version": 3
   },
   "file_extension": ".py",
   "mimetype": "text/x-python",
   "name": "python",
   "nbconvert_exporter": "python",
   "pygments_lexer": "ipython3",
   "version": "3.9.2"
  }
 },
 "nbformat": 4,
 "nbformat_minor": 5
}
